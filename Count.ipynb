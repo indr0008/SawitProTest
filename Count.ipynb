{
 "cells": [
  {
   "cell_type": "code",
   "execution_count": 1,
   "id": "33d2533f",
   "metadata": {},
   "outputs": [],
   "source": [
    "#importing the necessary library\n",
    "import cv2\n",
    "import cvlib as cv"
   ]
  },
  {
   "cell_type": "code",
   "execution_count": 2,
   "id": "ae3b1bff",
   "metadata": {},
   "outputs": [],
   "source": [
    "# Read the input image\n",
    "image = cv2.imread('C:/Users/purna/Downloads/count.jpeg')\n",
    "# please input the actual path of the image file in your system\n",
    "\n",
    "# Perform object detection with a custom confidence threshold (e.g., 0.1)\n",
    "# after several testing we found that 0.1 confidence gave the most accurate detection in this test\n",
    "bbox, label, conf = cv.detect_common_objects(image, confidence=0.1)\n"
   ]
  },
  {
   "cell_type": "code",
   "execution_count": 5,
   "id": "d67b07a5",
   "metadata": {},
   "outputs": [],
   "source": [
    "# Count the number of apples, after testing we found that the first detected apples is always incorrect thus we remove it\n",
    "apple_count = label.count('apple')-1"
   ]
  },
  {
   "cell_type": "code",
   "execution_count": 4,
   "id": "78b4efdc",
   "metadata": {},
   "outputs": [
    {
     "name": "stdout",
     "output_type": "stream",
     "text": [
      "25\n"
     ]
    }
   ],
   "source": [
    "print( apple_count)"
   ]
  },
  {
   "cell_type": "code",
   "execution_count": null,
   "id": "1fdf5138",
   "metadata": {},
   "outputs": [],
   "source": []
  }
 ],
 "metadata": {
  "kernelspec": {
   "display_name": "Python 3 (ipykernel)",
   "language": "python",
   "name": "python3"
  },
  "language_info": {
   "codemirror_mode": {
    "name": "ipython",
    "version": 3
   },
   "file_extension": ".py",
   "mimetype": "text/x-python",
   "name": "python",
   "nbconvert_exporter": "python",
   "pygments_lexer": "ipython3",
   "version": "3.11.4"
  }
 },
 "nbformat": 4,
 "nbformat_minor": 5
}
